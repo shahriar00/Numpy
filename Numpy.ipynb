{
  "nbformat": 4,
  "nbformat_minor": 0,
  "metadata": {
    "colab": {
      "provenance": [],
      "authorship_tag": "ABX9TyNNRWJyC3sGrBYEuIPH8Hwp"
    },
    "kernelspec": {
      "name": "python3",
      "display_name": "Python 3"
    },
    "language_info": {
      "name": "python"
    }
  },
  "cells": [
    {
      "cell_type": "markdown",
      "source": [
        "Numpy refers to Numurical Python"
      ],
      "metadata": {
        "id": "xZur1gnUzueB"
      }
    },
    {
      "cell_type": "code",
      "source": [
        "import numpy as np"
      ],
      "metadata": {
        "id": "X_jyRn6h0JKT"
      },
      "execution_count": 1,
      "outputs": []
    },
    {
      "cell_type": "code",
      "source": [
        "from time import process_time"
      ],
      "metadata": {
        "id": "uICp5x4P0NLg"
      },
      "execution_count": 2,
      "outputs": []
    },
    {
      "cell_type": "code",
      "source": [
        "python_list = [i for i in range(1000)]\n",
        "start_time = process_time()\n",
        "\n",
        "python_list = [i+5 for i in range(1000)]\n",
        "end_time = process_time()\n",
        "\n",
        "print(end_time - start_time)"
      ],
      "metadata": {
        "colab": {
          "base_uri": "https://localhost:8080/"
        },
        "id": "oaCsAC6_09h6",
        "outputId": "692aadfe-630a-4a71-9017-bd1184cec52b"
      },
      "execution_count": 4,
      "outputs": [
        {
          "output_type": "stream",
          "name": "stdout",
          "text": [
            "0.00022329000000009813\n"
          ]
        }
      ]
    },
    {
      "cell_type": "code",
      "source": [
        "np_array = np.array([i for i in range(1000)])\n",
        "start_time = process_time()\n",
        "\n",
        "np_array+=5\n",
        "end_time = process_time()\n",
        "\n",
        "print(end_time - start_time)"
      ],
      "metadata": {
        "colab": {
          "base_uri": "https://localhost:8080/"
        },
        "id": "zsbU198H1mTC",
        "outputId": "b653140b-8a5d-4a05-ae92-ccf6e483e7ec"
      },
      "execution_count": 5,
      "outputs": [
        {
          "output_type": "stream",
          "name": "stdout",
          "text": [
            "0.0008767700000000822\n"
          ]
        }
      ]
    },
    {
      "cell_type": "markdown",
      "source": [
        "Numpy Arrays"
      ],
      "metadata": {
        "id": "vxW22pYT3Lma"
      }
    },
    {
      "cell_type": "code",
      "source": [
        "#List\n",
        "listdata = [1,2,3,4,5]\n",
        "print(listdata)\n",
        "type(listdata)"
      ],
      "metadata": {
        "colab": {
          "base_uri": "https://localhost:8080/"
        },
        "id": "AH3dJCY73Nly",
        "outputId": "4ae60f82-5b69-4132-9524-fdb048a4b909"
      },
      "execution_count": 7,
      "outputs": [
        {
          "output_type": "stream",
          "name": "stdout",
          "text": [
            "[1, 2, 3, 4, 5]\n"
          ]
        },
        {
          "output_type": "execute_result",
          "data": {
            "text/plain": [
              "list"
            ]
          },
          "metadata": {},
          "execution_count": 7
        }
      ]
    },
    {
      "cell_type": "code",
      "source": [
        "np_array = np.array([1,2,3,4,5])\n",
        "print(np_array)"
      ],
      "metadata": {
        "colab": {
          "base_uri": "https://localhost:8080/"
        },
        "id": "Zd2Ck-u33m-D",
        "outputId": "73f74658-c9f2-47b3-f787-2b9d2248db7c"
      },
      "execution_count": 8,
      "outputs": [
        {
          "output_type": "stream",
          "name": "stdout",
          "text": [
            "[1 2 3 4 5]\n"
          ]
        }
      ]
    },
    {
      "cell_type": "code",
      "source": [
        "a = np.array([1,2,3,4,5])\n",
        "a.shape"
      ],
      "metadata": {
        "colab": {
          "base_uri": "https://localhost:8080/"
        },
        "id": "7tHDmLjj3utr",
        "outputId": "88e3b108-6e12-4fad-82c5-383f974105af"
      },
      "execution_count": 9,
      "outputs": [
        {
          "output_type": "execute_result",
          "data": {
            "text/plain": [
              "(5,)"
            ]
          },
          "metadata": {},
          "execution_count": 9
        }
      ]
    },
    {
      "cell_type": "code",
      "source": [
        "b = np.array([(1,2,3,4),(4,5,6,7)])\n",
        "b.shape"
      ],
      "metadata": {
        "colab": {
          "base_uri": "https://localhost:8080/"
        },
        "id": "qQiDNQo64Aly",
        "outputId": "ff5419bc-23b6-4b1c-a3a5-6bdcce7cf181"
      },
      "execution_count": 10,
      "outputs": [
        {
          "output_type": "execute_result",
          "data": {
            "text/plain": [
              "(2, 4)"
            ]
          },
          "metadata": {},
          "execution_count": 10
        }
      ]
    },
    {
      "cell_type": "code",
      "source": [
        "np.zeros((4,5))"
      ],
      "metadata": {
        "colab": {
          "base_uri": "https://localhost:8080/"
        },
        "id": "uiZ1PkKY4I-a",
        "outputId": "16173f5e-0338-4cf6-efa1-9316b3494b0a"
      },
      "execution_count": 11,
      "outputs": [
        {
          "output_type": "execute_result",
          "data": {
            "text/plain": [
              "array([[0., 0., 0., 0., 0.],\n",
              "       [0., 0., 0., 0., 0.],\n",
              "       [0., 0., 0., 0., 0.],\n",
              "       [0., 0., 0., 0., 0.]])"
            ]
          },
          "metadata": {},
          "execution_count": 11
        }
      ]
    },
    {
      "cell_type": "code",
      "source": [
        "np.ones((2,2))"
      ],
      "metadata": {
        "colab": {
          "base_uri": "https://localhost:8080/"
        },
        "id": "o6422I3u4wcj",
        "outputId": "6527196f-44c1-46bf-9a16-e298a21fd5b3"
      },
      "execution_count": 12,
      "outputs": [
        {
          "output_type": "execute_result",
          "data": {
            "text/plain": [
              "array([[1., 1.],\n",
              "       [1., 1.]])"
            ]
          },
          "metadata": {},
          "execution_count": 12
        }
      ]
    },
    {
      "cell_type": "code",
      "source": [
        "np.full((2,4),5)"
      ],
      "metadata": {
        "colab": {
          "base_uri": "https://localhost:8080/"
        },
        "id": "chqzVFWw4zoq",
        "outputId": "2deda75b-fb54-45b2-c533-78fa317391c1"
      },
      "execution_count": 13,
      "outputs": [
        {
          "output_type": "execute_result",
          "data": {
            "text/plain": [
              "array([[5, 5, 5, 5],\n",
              "       [5, 5, 5, 5]])"
            ]
          },
          "metadata": {},
          "execution_count": 13
        }
      ]
    },
    {
      "cell_type": "code",
      "source": [
        "#Create an identity matrix\n",
        "\n",
        "np.eye(4)"
      ],
      "metadata": {
        "colab": {
          "base_uri": "https://localhost:8080/"
        },
        "id": "JXH7my2S440S",
        "outputId": "e583a46c-42e8-4adb-9984-5cf4d4a36dba"
      },
      "execution_count": 14,
      "outputs": [
        {
          "output_type": "execute_result",
          "data": {
            "text/plain": [
              "array([[1., 0., 0., 0.],\n",
              "       [0., 1., 0., 0.],\n",
              "       [0., 0., 1., 0.],\n",
              "       [0., 0., 0., 1.]])"
            ]
          },
          "metadata": {},
          "execution_count": 14
        }
      ]
    },
    {
      "cell_type": "code",
      "source": [
        "np.random.randint(10,100,(2,4))"
      ],
      "metadata": {
        "colab": {
          "base_uri": "https://localhost:8080/"
        },
        "id": "Xou06goA5G-r",
        "outputId": "4e9d859d-603d-4faa-c55b-3900a04eb3b3"
      },
      "execution_count": 15,
      "outputs": [
        {
          "output_type": "execute_result",
          "data": {
            "text/plain": [
              "array([[93, 94, 69, 90],\n",
              "       [20, 51, 74, 28]])"
            ]
          },
          "metadata": {},
          "execution_count": 15
        }
      ]
    },
    {
      "cell_type": "code",
      "source": [
        "list2 = [3,5,55,66]\n",
        "np.array(list2)"
      ],
      "metadata": {
        "colab": {
          "base_uri": "https://localhost:8080/"
        },
        "id": "VodBKtwQ5av7",
        "outputId": "58134021-df49-445c-d6e6-980169384f66"
      },
      "execution_count": 16,
      "outputs": [
        {
          "output_type": "execute_result",
          "data": {
            "text/plain": [
              "array([ 3,  5, 55, 66])"
            ]
          },
          "metadata": {},
          "execution_count": 16
        }
      ]
    },
    {
      "cell_type": "code",
      "source": [
        "c = np.random.randint(10,89,(4,4))\n",
        "c"
      ],
      "metadata": {
        "colab": {
          "base_uri": "https://localhost:8080/"
        },
        "id": "ohg239865tOD",
        "outputId": "bca836d0-1fd1-4e46-d7d5-99d21e3094ae"
      },
      "execution_count": 17,
      "outputs": [
        {
          "output_type": "execute_result",
          "data": {
            "text/plain": [
              "array([[39, 33, 50, 22],\n",
              "       [55, 18, 84, 17],\n",
              "       [33, 29, 10, 43],\n",
              "       [68, 37, 64, 32]])"
            ]
          },
          "metadata": {},
          "execution_count": 17
        }
      ]
    },
    {
      "cell_type": "code",
      "source": [
        "c.shape"
      ],
      "metadata": {
        "colab": {
          "base_uri": "https://localhost:8080/"
        },
        "id": "FbV5-dGC56dD",
        "outputId": "67df93e2-1837-485a-acdf-0aa8d83602dc"
      },
      "execution_count": 18,
      "outputs": [
        {
          "output_type": "execute_result",
          "data": {
            "text/plain": [
              "(4, 4)"
            ]
          },
          "metadata": {},
          "execution_count": 18
        }
      ]
    },
    {
      "cell_type": "code",
      "source": [
        "c.ndim"
      ],
      "metadata": {
        "colab": {
          "base_uri": "https://localhost:8080/"
        },
        "id": "-OelbDF358fT",
        "outputId": "0e4d651e-c110-4665-cb8e-4362336016d5"
      },
      "execution_count": 19,
      "outputs": [
        {
          "output_type": "execute_result",
          "data": {
            "text/plain": [
              "2"
            ]
          },
          "metadata": {},
          "execution_count": 19
        }
      ]
    },
    {
      "cell_type": "code",
      "source": [
        "c.size"
      ],
      "metadata": {
        "colab": {
          "base_uri": "https://localhost:8080/"
        },
        "id": "0K4MZR9U6BCb",
        "outputId": "81d6fa44-e483-40d1-c51e-8920e945c3ed"
      },
      "execution_count": 20,
      "outputs": [
        {
          "output_type": "execute_result",
          "data": {
            "text/plain": [
              "16"
            ]
          },
          "metadata": {},
          "execution_count": 20
        }
      ]
    },
    {
      "cell_type": "markdown",
      "source": [
        "Mathematical Operation of Numpy Array"
      ],
      "metadata": {
        "id": "1mnKNQJo6KFq"
      }
    },
    {
      "cell_type": "code",
      "source": [
        "a = np.random.randint(10,20,(5,5))\n",
        "b = np.random.randint(40,80,(5,5))\n",
        "\n",
        "print(a+b)\n",
        "print(a-b)\n",
        "print(a*b)\n",
        "print(a/b)"
      ],
      "metadata": {
        "colab": {
          "base_uri": "https://localhost:8080/"
        },
        "id": "LjLp52S36N_i",
        "outputId": "a228cf22-627f-4a32-a48a-970627337b08"
      },
      "execution_count": 22,
      "outputs": [
        {
          "output_type": "stream",
          "name": "stdout",
          "text": [
            "[[80 73 55 71 59]\n",
            " [83 78 66 71 80]\n",
            " [51 68 69 63 80]\n",
            " [86 65 79 86 73]\n",
            " [69 78 74 81 75]]\n",
            "[[-54 -43 -29 -49 -37]\n",
            " [-47 -52 -38 -49 -58]\n",
            " [-31 -38 -45 -27 -54]\n",
            " [-64 -43 -47 -56 -37]\n",
            " [-39 -58 -38 -47 -53]]\n",
            "[[ 871  870  546  660  528]\n",
            " [1170  845  728  660  759]\n",
            " [ 410  795  684  810  871]\n",
            " [ 825  594 1008 1065  990]\n",
            " [ 810  680 1008 1088  704]]\n",
            "[[0.19402985 0.25862069 0.30952381 0.18333333 0.22916667]\n",
            " [0.27692308 0.2        0.26923077 0.18333333 0.15942029]\n",
            " [0.24390244 0.28301887 0.21052632 0.4        0.19402985]\n",
            " [0.14666667 0.2037037  0.25396825 0.21126761 0.32727273]\n",
            " [0.27777778 0.14705882 0.32142857 0.265625   0.171875  ]]\n"
          ]
        }
      ]
    },
    {
      "cell_type": "markdown",
      "source": [
        "Array Manipulation"
      ],
      "metadata": {
        "id": "vTKehOln664N"
      }
    },
    {
      "cell_type": "code",
      "source": [
        "np_array = np.random.randint(1,100,(4,4))\n",
        "np_array"
      ],
      "metadata": {
        "colab": {
          "base_uri": "https://localhost:8080/"
        },
        "id": "ya1uh9b4686b",
        "outputId": "baa5d4c3-6eb3-49e3-d689-70604b143908"
      },
      "execution_count": 23,
      "outputs": [
        {
          "output_type": "execute_result",
          "data": {
            "text/plain": [
              "array([[35, 53, 21, 88],\n",
              "       [58, 74, 17, 60],\n",
              "       [34, 65, 85, 78],\n",
              "       [12,  7, 41, 61]])"
            ]
          },
          "metadata": {},
          "execution_count": 23
        }
      ]
    },
    {
      "cell_type": "code",
      "source": [
        "np.transpose(np_array)"
      ],
      "metadata": {
        "colab": {
          "base_uri": "https://localhost:8080/"
        },
        "id": "umZaAAse7Q7S",
        "outputId": "2a385d25-3301-4212-b83b-6b041016736e"
      },
      "execution_count": 24,
      "outputs": [
        {
          "output_type": "execute_result",
          "data": {
            "text/plain": [
              "array([[35, 58, 34, 12],\n",
              "       [53, 74, 65,  7],\n",
              "       [21, 17, 85, 41],\n",
              "       [88, 60, 78, 61]])"
            ]
          },
          "metadata": {},
          "execution_count": 24
        }
      ]
    },
    {
      "cell_type": "code",
      "source": [
        "#Reshape Array\n",
        "\n",
        "np_array.reshape(8,2)"
      ],
      "metadata": {
        "colab": {
          "base_uri": "https://localhost:8080/"
        },
        "id": "vNdp3Fxz7U2r",
        "outputId": "62f9f050-76d3-4dc4-9f32-8cb5d8b1ac97"
      },
      "execution_count": 27,
      "outputs": [
        {
          "output_type": "execute_result",
          "data": {
            "text/plain": [
              "array([[35, 53],\n",
              "       [21, 88],\n",
              "       [58, 74],\n",
              "       [17, 60],\n",
              "       [34, 65],\n",
              "       [85, 78],\n",
              "       [12,  7],\n",
              "       [41, 61]])"
            ]
          },
          "metadata": {},
          "execution_count": 27
        }
      ]
    },
    {
      "cell_type": "markdown",
      "source": [
        "# **The End**"
      ],
      "metadata": {
        "id": "vddPrK7x7v07"
      }
    }
  ]
}